{
 "cells": [
  {
   "cell_type": "code",
   "execution_count": 1,
   "metadata": {},
   "outputs": [],
   "source": [
    "import numpy as np\n",
    "import awkward as ak\n",
    "import uproot\n",
    "import vector\n",
    "vector.register_awkward()"
   ]
  },
  {
   "cell_type": "code",
   "execution_count": 2,
   "metadata": {},
   "outputs": [],
   "source": [
    "import os\n",
    "import shutil\n",
    "import zipfile\n",
    "import tarfile\n",
    "import urllib\n",
    "import requests\n",
    "from tqdm import tqdm"
   ]
  },
  {
   "cell_type": "code",
   "execution_count": 3,
   "metadata": {},
   "outputs": [],
   "source": [
    "def _download(url, fname, chunk_size=1024):\n",
    "    '''https://gist.github.com/yanqd0/c13ed29e29432e3cf3e7c38467f42f51'''\n",
    "    resp = requests.get(url, stream=True)\n",
    "    total = int(resp.headers.get('content-length', 0))\n",
    "    with open(fname, 'wb') as file, tqdm(\n",
    "        desc=fname,\n",
    "        total=total,\n",
    "        unit='iB',\n",
    "        unit_scale=True,\n",
    "        unit_divisor=1024,\n",
    "    ) as bar:\n",
    "        for data in resp.iter_content(chunk_size=chunk_size):\n",
    "            size = file.write(data)\n",
    "            bar.update(size)"
   ]
  },
  {
   "cell_type": "code",
   "execution_count": 4,
   "metadata": {},
   "outputs": [],
   "source": [
    "# # Download the example file\n",
    "# example_file = 'JetClass_example_100k.root'\n",
    "# if not os.path.exists(example_file):\n",
    "#     _download('https://hqu.web.cern.ch/datasets/JetClass/example/JetClass_example_100k.root', example_file)"
   ]
  },
  {
   "cell_type": "code",
   "execution_count": 5,
   "metadata": {},
   "outputs": [],
   "source": [
    "# added\n",
    "\n",
    "# new\n",
    "from pathlib import Path\n",
    "\n",
    "example_file = Path(\"../../nuisance-aware-ood-detection/sophon/data/JetClass/val_5M/HToBB_120.root\")"
   ]
  },
  {
   "cell_type": "markdown",
   "metadata": {},
   "source": [
    "# Exploring the file"
   ]
  },
  {
   "cell_type": "code",
   "execution_count": 6,
   "metadata": {},
   "outputs": [],
   "source": [
    "# Load the content from the file\n",
    "tree = uproot.open(example_file)['tree']"
   ]
  },
  {
   "cell_type": "code",
   "execution_count": 7,
   "metadata": {},
   "outputs": [
    {
     "name": "stdout",
     "output_type": "stream",
     "text": [
      "name                 | typename                 | interpretation                \n",
      "---------------------+--------------------------+-------------------------------\n",
      "part_px              | std::vector<float>       | AsJagged(AsDtype('>f4'), he...\n",
      "part_py              | std::vector<float>       | AsJagged(AsDtype('>f4'), he...\n",
      "part_pz              | std::vector<float>       | AsJagged(AsDtype('>f4'), he...\n",
      "part_energy          | std::vector<float>       | AsJagged(AsDtype('>f4'), he...\n",
      "part_deta            | std::vector<float>       | AsJagged(AsDtype('>f4'), he...\n",
      "part_dphi            | std::vector<float>       | AsJagged(AsDtype('>f4'), he...\n",
      "part_d0val           | std::vector<float>       | AsJagged(AsDtype('>f4'), he...\n",
      "part_d0err           | std::vector<float>       | AsJagged(AsDtype('>f4'), he...\n",
      "part_dzval           | std::vector<float>       | AsJagged(AsDtype('>f4'), he...\n",
      "part_dzerr           | std::vector<float>       | AsJagged(AsDtype('>f4'), he...\n",
      "part_charge          | std::vector<float>       | AsJagged(AsDtype('>f4'), he...\n",
      "part_isChargedHadron | std::vector<int32_t>     | AsJagged(AsDtype('>i4'), he...\n",
      "part_isNeutralHadron | std::vector<int32_t>     | AsJagged(AsDtype('>i4'), he...\n",
      "part_isPhoton        | std::vector<int32_t>     | AsJagged(AsDtype('>i4'), he...\n",
      "part_isElectron      | std::vector<int32_t>     | AsJagged(AsDtype('>i4'), he...\n",
      "part_isMuon          | std::vector<int32_t>     | AsJagged(AsDtype('>i4'), he...\n",
      "label_QCD            | float                    | AsDtype('>f4')\n",
      "label_Hbb            | bool                     | AsDtype('bool')\n",
      "label_Hcc            | bool                     | AsDtype('bool')\n",
      "label_Hgg            | bool                     | AsDtype('bool')\n",
      "label_H4q            | bool                     | AsDtype('bool')\n",
      "label_Hqql           | bool                     | AsDtype('bool')\n",
      "label_Zqq            | int32_t                  | AsDtype('>i4')\n",
      "label_Wqq            | int32_t                  | AsDtype('>i4')\n",
      "label_Tbqq           | int32_t                  | AsDtype('>i4')\n",
      "label_Tbl            | int32_t                  | AsDtype('>i4')\n",
      "jet_pt               | float                    | AsDtype('>f4')\n",
      "jet_eta              | float                    | AsDtype('>f4')\n",
      "jet_phi              | float                    | AsDtype('>f4')\n",
      "jet_energy           | float                    | AsDtype('>f4')\n",
      "jet_nparticles       | float                    | AsDtype('>f4')\n",
      "jet_sdmass           | float                    | AsDtype('>f4')\n",
      "jet_tau1             | float                    | AsDtype('>f4')\n",
      "jet_tau2             | float                    | AsDtype('>f4')\n",
      "jet_tau3             | float                    | AsDtype('>f4')\n",
      "jet_tau4             | float                    | AsDtype('>f4')\n",
      "aux_genpart_eta      | float                    | AsDtype('>f4')\n",
      "aux_genpart_phi      | float                    | AsDtype('>f4')\n",
      "aux_genpart_pid      | float                    | AsDtype('>f4')\n",
      "aux_genpart_pt       | float                    | AsDtype('>f4')\n",
      "aux_truth_match      | float                    | AsDtype('>f4')\n"
     ]
    }
   ],
   "source": [
    "# Display the content of the \"tree\"\n",
    "tree.show()"
   ]
  },
  {
   "cell_type": "code",
   "execution_count": 8,
   "metadata": {},
   "outputs": [],
   "source": [
    "# Load all arrays in the tree\n",
    "# Each array is a column of the table\n",
    "table = tree.arrays()"
   ]
  },
  {
   "cell_type": "code",
   "execution_count": 9,
   "metadata": {},
   "outputs": [
    {
     "data": {
      "text/plain": [
       "array([0., 0., 0., ..., 0., 0., 0.], dtype=float32)"
      ]
     },
     "execution_count": 9,
     "metadata": {},
     "output_type": "execute_result"
    }
   ],
   "source": [
    "# Arrays of a scalar type (bool/int/float) can be converted to a numpy array directly, e.g.\n",
    "table['label_QCD'].to_numpy()"
   ]
  },
  {
   "cell_type": "code",
   "execution_count": 10,
   "metadata": {},
   "outputs": [
    {
     "data": {
      "text/html": [
       "<pre>[[-67.3, -48, -42, -47.5, -9.11, ..., -0.748, -0.694, -0.107, 0.0173, -0.52],\n",
       " [-32.4, -40.6, -21.2, 5.35, -10.4, ..., -0.509, -0.689, 0.121, -0.316, -0.328],\n",
       " [-30.7, -8.82, -20.1, -5.81, -4.33, ..., -0.995, -0.241, -0.0422, 0.0874],\n",
       " [40, 34.2, 16.2, 10.3, 16.7, 12.2, ..., 0.708, 0.357, 0.459, 0.593, 0.598],\n",
       " [-73.8, -48.1, -36, -32.5, -31.4, ..., -1.31, -1.37, -0.917, -0.834, -0.818],\n",
       " [-29.3, -10.5, 3.14, 2.15, 1.74, ..., 0.171, 0.262, -0.101, 0.0944, 0.17],\n",
       " [-36.6, -33, -20.6, -19.7, -18.7, ..., -0.597, -0.974, -0.829, -0.459, -0.546],\n",
       " [101, 50.7, 59.9, 48.8, 41.4, 34.7, ..., 1.73, 1.35, 1.75, 1.25, 1.36, 0.844],\n",
       " [130, 43.8, 28.1, 29.9, 22.9, 26.5, ..., 1.49, 1.49, 1.55, 1.55, 1.27, 0.719],\n",
       " [-125, -91.1, -83.2, -68.9, -66.8, ..., -1.51, -1.47, -1.48, -1.19, -1.14],\n",
       " ...,\n",
       " [20, 9.18, 8.98, 13.4, 4.22, 3.67, ..., 0.431, 0.566, 0.583, 0.601, 0.0965],\n",
       " [-91.5, -31.3, -49, -18.7, -18.2, ..., -0.994, -0.548, -0.392, -0.361, -0.303],\n",
       " [-130, -42.8, -37.2, -35.4, -33.7, ..., -2.41, -1.39, -1.58, -1.43, -1.25],\n",
       " [-85.2, -61.7, -43.8, -42.8, -39.9, ..., -3.35, -1.95, -1.75, -1.67, -1.13],\n",
       " [25.3, 22.1, 13.8, 10.8, 9.44, 9.85, ..., 0.792, 0.789, 0.639, 0.816, 0.58],\n",
       " [-17.9, -14.3, -14.3, -19.1, -7.46, ..., -0.633, 0.228, -0.477, -0.0514],\n",
       " [109, 79.4, 68.6, 51, 32.2, 31.1, ..., 4.59, 3.85, 3.5, 3.01, 2.69, 2.43],\n",
       " [70.4, 50.1, 35.3, 21, 17.5, 17.2, ..., 0.712, 0.848, 1.3, 0.68, 0.549, 0.474],\n",
       " [-162, -96, -82, -61.3, -36.5, -21.1, ..., -1.38, -1.23, -1.19, -0.82, -0.74]]\n",
       "--------------------------------------------------------------------------------\n",
       "backend: cpu\n",
       "nbytes: 17.6 MB\n",
       "type: 100000 * var * float32</pre>"
      ],
      "text/plain": [
       "<Array [[-67.3, -48, ..., 0.0173, -0.52], ...] type='100000 * var * float32'>"
      ]
     },
     "execution_count": 10,
     "metadata": {},
     "output_type": "execute_result"
    }
   ],
   "source": [
    "# Arrays of a vector type are loaded as a JaggedArray that has varying elements per row\n",
    "table['part_px']\n",
    "\n",
    "# A JaggedArray can be (zero-) padded to become a regular numpy array (see later)"
   ]
  },
  {
   "cell_type": "code",
   "execution_count": 11,
   "metadata": {},
   "outputs": [],
   "source": [
    "# Construct a Lorentz 4-vector from the (px, py, pz, energy) arrays\n",
    "p4 = vector.zip({'px': table['part_px'], 'py': table['part_py'], 'pz': table['part_pz'], 'energy': table['part_energy']})"
   ]
  },
  {
   "cell_type": "code",
   "execution_count": 12,
   "metadata": {},
   "outputs": [
    {
     "data": {
      "text/html": [
       "<pre>[[87.5, 74.4, 68.2, 55.1, 38.2, 23.8, ..., 1.08, 1.07, 0.943, 0.884, 0.826],\n",
       " [82.5, 52.7, 51.2, 36.2, 28.9, 26.6, ..., 1.06, 1.04, 1.02, 0.895, 0.861],\n",
       " [86.5, 70.2, 58.4, 56.6, 49.3, 41.2, ..., 4.67, 4.3, 3.4, 2.98, 1.56, 0.896],\n",
       " [85.7, 74.1, 60.2, 33.7, 33.3, 27.6, ..., 1.72, 1.57, 1.51, 1.45, 1.44, 1.4],\n",
       " [75.8, 49.3, 36.9, 33.1, 32, 28.7, ..., 1.69, 1.39, 1.38, 0.933, 0.849, 0.844],\n",
       " [106, 38.3, 29.8, 25.4, 22.6, 19.2, ..., 1.35, 1.32, 1.25, 1.24, 1.15, 0.915],\n",
       " [86.7, 76.5, 47, 46.5, 43.9, 37, ..., 2.33, 2.28, 2.27, 1.89, 1.22, 1.15],\n",
       " [124, 77.7, 72.8, 60.5, 51.2, 42.9, ..., 2.06, 2.06, 2.04, 1.82, 1.65, 1.08],\n",
       " [137, 46.1, 34.7, 33, 30.3, 27.7, 24, ..., 1.97, 1.92, 1.8, 1.71, 1.62, 0.962],\n",
       " [140, 95.3, 87.8, 72.3, 69.6, 46.9, ..., 1.77, 1.69, 1.57, 1.56, 1.24, 1.2],\n",
       " ...,\n",
       " [131, 63.5, 60.4, 33.9, 30.5, 25.9, ..., 1.99, 1.87, 1.84, 1.46, 1.41, 1.1],\n",
       " [294, 107, 88.3, 60.4, 56.4, 38.6, ..., 2.04, 1.89, 1.84, 1.37, 1.09, 0.904],\n",
       " [160, 49.6, 39.4, 37.6, 35.7, 31.7, ..., 2.53, 2.42, 1.73, 1.59, 1.55, 1.29],\n",
       " [85.3, 61.7, 44, 42.8, 39.9, 29.8, ..., 4.23, 3.36, 1.96, 1.83, 1.67, 1.13],\n",
       " [40.9, 34.7, 32.9, 27.1, 26.5, 24.8, ..., 1.53, 1.47, 1.25, 1.12, 1.05, 0.958],\n",
       " [94.4, 71.3, 60.2, 40.4, 38.7, 37.1, ..., 1.62, 1.41, 1.29, 1.23, 1.14, 0.517],\n",
       " [111, 79.6, 70.5, 51.2, 32.3, 31.2, ..., 4.61, 3.86, 3.54, 3.12, 2.69, 2.52],\n",
       " [132, 87.8, 61.5, 37.4, 30.9, 30.8, ..., 1.63, 1.4, 1.37, 1.11, 1.03, 0.918],\n",
       " [195, 117, 98.2, 61.8, 44.4, 21.3, ..., 1.54, 1.4, 1.24, 1.22, 0.998, 0.913]]\n",
       "--------------------------------------------------------------------------------\n",
       "backend: cpu\n",
       "nbytes: 17.6 MB\n",
       "type: 100000 * var * float32</pre>"
      ],
      "text/plain": [
       "<Array [[87.5, 74.4, ..., 0.884, 0.826], ...] type='100000 * var * float32'>"
      ]
     },
     "execution_count": 12,
     "metadata": {},
     "output_type": "execute_result"
    }
   ],
   "source": [
    "# Get the transverse momentum (pt)\n",
    "p4.pt"
   ]
  },
  {
   "cell_type": "code",
   "execution_count": 13,
   "metadata": {},
   "outputs": [
    {
     "data": {
      "text/html": [
       "<pre>[[-0.0518, 0.42, 0.448, -0.0654, 0.619, ..., 0.357, 0.232, 0.123, -0.000755],\n",
       " [-0.436, -0.873, -0.449, -0.606, -0.481, ..., -0.636, -0.451, -0.458, -0.422],\n",
       " [0.14, 0.279, 0.144, 0.347, 0.35, ..., 0.153, 0.121, 0.363, 0.415, 0.422],\n",
       " [0.857, 0.874, 0.455, 0.503, 0.852, ..., 0.951, 0.716, 0.512, 0.863, 0.784],\n",
       " [1.32, 1.31, 1.32, 1.34, 1.33, 1.33, ..., 1.52, 1.64, 1.69, 1.12, 1.78, 1.75],\n",
       " [0.966, 0.96, 0.964, 0.998, 0.947, 0.979, ..., 1.09, 0.995, 1.08, 1.17, 1.03],\n",
       " [0.207, 0.192, 0.208, 0.206, 0.199, ..., 0.149, 0.158, 0.236, 0.2, 0.15],\n",
       " [-0.571, -0.524, -0.568, -0.559, -0.558, ..., -0.334, -0.49, -0.353, -0.542],\n",
       " [0.199, 0.213, 0.576, 0.323, 0.577, ..., 0.568, 0.352, 0.352, 0.519, 0.568],\n",
       " [-0.254, -0.403, -0.413, -0.416, -0.328, ..., -0.363, -0.385, -0.301, -0.428],\n",
       " ...,\n",
       " [0.737, 0.762, 0.75, 0.328, 0.751, ..., 0.576, 0.358, 0.447, 0.508, 0.629],\n",
       " [-0.234, -0.232, -0.477, -0.183, -0.234, ..., -0.277, -0.228, -0.24, -0.195],\n",
       " [-0.992, -0.958, -0.711, -0.762, -0.752, ..., -0.968, -1.35, -1.95, -1.01],\n",
       " [0.442, 0.481, 0.00749, 0.419, 0.43, ..., 0.0517, 0.917, 0.0507, 0.00408],\n",
       " [0.849, 0.795, 0.919, 0.916, 0.914, ..., 0.883, 1.11, 0.876, 1.01, 1.15],\n",
       " [0.742, 0.742, 0.774, 0.483, 0.746, 0.737, ..., 1.04, 0.494, 1.06, 1.05, 1.98],\n",
       " [-0.572, -0.22, -0.595, -0.198, -0.182, ..., -0.655, -0.546, -0.235, -0.46],\n",
       " [-0.749, -0.784, -0.767, -0.881, -0.776, ..., -1.26, -0.916, -0.888, -0.821],\n",
       " [-0.778, -0.775, -0.769, -1.06, -0.799, ..., -1.08, -0.62, -0.799, -0.845]]\n",
       "--------------------------------------------------------------------------------\n",
       "backend: cpu\n",
       "nbytes: 17.6 MB\n",
       "type: 100000 * var * float32</pre>"
      ],
      "text/plain": [
       "<Array [[-0.0518, 0.42, ..., -0.000755], ...] type='100000 * var * float32'>"
      ]
     },
     "execution_count": 13,
     "metadata": {},
     "output_type": "execute_result"
    }
   ],
   "source": [
    "# Get the pseudorapidity (eta)\n",
    "p4.eta"
   ]
  },
  {
   "cell_type": "code",
   "execution_count": 14,
   "metadata": {},
   "outputs": [
    {
     "data": {
      "text/html": [
       "<pre>[[2.45, 2.27, 2.23, 2.61, 1.81, 1.78, ..., 1.77, 2.34, 2.28, 1.68, 1.55, 2.25],\n",
       " [-1.97, -2.45, -2, -1.42, -1.94, -2.36, ..., -2.07, -2.3, -1.45, -1.93, -1.96],\n",
       " [1.93, 1.7, 1.92, 1.67, 1.66, 1.84, ..., 1.82, 1.91, 1.87, 1.65, 1.6, 1.47],\n",
       " [-1.08, -1.09, -1.3, -1.26, -1.05, ..., -1.1, -1.33, -1.25, -1.15, -1.13],\n",
       " [-2.91, -2.92, -2.92, -2.95, -2.95, -2.94, ..., 2.81, 3, 2.95, 2.96, 2.89],\n",
       " [-1.85, -1.85, -1.47, -1.49, -1.49, ..., -1.44, -1.36, -1.65, -1.49, -1.38],\n",
       " [-2.01, -2.02, -2.03, -2.01, -2.01, ..., -1.84, -2.01, -2.02, -1.96, -2.06],\n",
       " [-0.612, -0.859, -0.604, -0.633, -0.63, ..., -0.535, -0.817, -0.598, -0.668],\n",
       " [-0.324, -0.313, -0.628, -0.439, -0.712, ..., -0.527, -0.436, -0.669, -0.727],\n",
       " [2.67, 2.84, 2.81, 2.83, 2.86, 2.64, ..., 2.66, 2.68, 2.77, 2.83, 2.85, 2.84],\n",
       " ...,\n",
       " [-1.42, -1.43, -1.42, -1.17, -1.43, ..., -1.34, -1.26, -1.16, -1.13, -1.48],\n",
       " [-1.89, -1.87, -2.16, -1.88, -1.9, ..., -2.12, -1.87, -1.86, -1.91, -1.91],\n",
       " [-2.52, -2.61, -2.81, -2.8, -2.8, -2.8, ..., -3.05, -2.5, 3.11, -2.75, -2.89],\n",
       " [-3.09, -3.14, 3.05, -3.1, -3.09, -3.08, ..., -3.08, 3.03, -2.85, 3.07, 3.06],\n",
       " [0.906, 0.88, 1.14, 1.16, 1.21, 1.16, ..., 1.04, 1, 0.89, 0.961, 0.683, 0.921],\n",
       " [1.76, 1.77, 1.81, 2.06, 1.76, 1.77, ..., 1.74, 1.98, 2.08, 1.39, 2, 1.67],\n",
       " [0.191, 0.0538, 0.234, 0.0717, 0.0572, ..., 0.153, 0.265, 0.0224, 0.262],\n",
       " [1.01, 0.963, 0.96, 0.974, 0.969, 0.98, ..., 0.92, 0.321, 0.911, 1.01, 1.03],\n",
       " [2.55, 2.53, 2.56, 3.01, 2.54, 3.03, ..., 2.52, 2.99, 2.98, -2.93, 2.54, 2.52]]\n",
       "--------------------------------------------------------------------------------\n",
       "backend: cpu\n",
       "nbytes: 17.6 MB\n",
       "type: 100000 * var * float32</pre>"
      ],
      "text/plain": [
       "<Array [[2.45, 2.27, 2.23, ..., 1.55, 2.25], ...] type='100000 * var * float32'>"
      ]
     },
     "execution_count": 14,
     "metadata": {},
     "output_type": "execute_result"
    }
   ],
   "source": [
    "# Get the azimuth angle (phi)\n",
    "p4.phi"
   ]
  },
  {
   "cell_type": "code",
   "execution_count": 15,
   "metadata": {},
   "outputs": [],
   "source": [
    "def _pad(a, maxlen, value=0, dtype='float32'):\n",
    "    if isinstance(a, np.ndarray) and a.ndim >= 2 and a.shape[1] == maxlen:\n",
    "        return a\n",
    "    elif isinstance(a, ak.Array):\n",
    "        if a.ndim == 1:\n",
    "            a = ak.unflatten(a, 1)\n",
    "        a = ak.fill_none(ak.pad_none(a, maxlen, clip=True), value)\n",
    "        return ak.values_astype(a, dtype)\n",
    "    else:\n",
    "        x = (np.ones((len(a), maxlen)) * value).astype(dtype)\n",
    "        for idx, s in enumerate(a):\n",
    "            if not len(s):\n",
    "                continue\n",
    "            trunc = s[:maxlen].astype(dtype)\n",
    "            x[idx, :len(trunc)] = trunc\n",
    "        return x\n"
   ]
  },
  {
   "cell_type": "code",
   "execution_count": 16,
   "metadata": {},
   "outputs": [
    {
     "data": {
      "text/plain": [
       "array([[ 87.54138 ,  74.36803 ,  68.19881 , ...,   0.      ,   0.      ,\n",
       "          0.      ],\n",
       "       [ 82.48453 ,  52.682617,  51.243843, ...,   0.      ,   0.      ,\n",
       "          0.      ],\n",
       "       [ 86.492935,  70.19298 ,  58.423912, ...,   0.      ,   0.      ,\n",
       "          0.      ],\n",
       "       ...,\n",
       "       [111.11471 ,  79.56289 ,  70.487595, ...,   0.      ,   0.      ,\n",
       "          0.      ],\n",
       "       [131.6809  ,  87.84428 ,  61.51071 , ...,   0.      ,   0.      ,\n",
       "          0.      ],\n",
       "       [195.14198 , 117.14578 ,  98.17178 , ...,   0.      ,   0.      ,\n",
       "          0.      ]], dtype=float32)"
      ]
     },
     "execution_count": 16,
     "metadata": {},
     "output_type": "execute_result"
    }
   ],
   "source": [
    "# Apply zero-padding and convert to a numpy array\n",
    "_pad(p4.pt, maxlen=128).to_numpy()"
   ]
  },
  {
   "cell_type": "markdown",
   "metadata": {},
   "source": [
    "# Constructing features and labels"
   ]
  },
  {
   "cell_type": "markdown",
   "metadata": {},
   "source": [
    "As you see previously with `tree.show()`, there are four groups of arrays with different prefixes:\n",
    " - `part_*`: JaggedArrays with features for each particle in a jet. These (and features constrcuted from them) are what we use for training in the Particle Transformer paper.\n",
    " - `label_*`: 1D numpy arrays one-hot truth labels for each jet. These are the target of the training.\n",
    " - *[Not used in the Particle Transformer paper]* `jet_*`: 1D numpy array with (high-level) features for each jet. These can also be used in the training, but since they are constructed from the particle-level features, it is not expected that they bring additional performance improvement.\n",
    " - *[Not used in the Particle Transformer paper]* `aux_*`: auxiliary truth information about the simulated particles for additional studies / interpretations. **SHOULD NOT be used in the training of any classifier.**"
   ]
  },
  {
   "cell_type": "markdown",
   "metadata": {},
   "source": [
    "The code below illustrates how the input features and labels are constructed in the Particle Transformer paper.\n",
    "\n",
    "(See also the yaml configuration: https://github.com/jet-universe/particle_transformer/blob/main/data/JetClass/JetClass_full.yaml)"
   ]
  },
  {
   "cell_type": "code",
   "execution_count": 17,
   "metadata": {},
   "outputs": [],
   "source": [
    "def _clip(a, a_min, a_max):\n",
    "    try:\n",
    "        return np.clip(a, a_min, a_max)\n",
    "    except ValueError:\n",
    "        return ak.unflatten(np.clip(ak.flatten(a), a_min, a_max), ak.num(a))"
   ]
  },
  {
   "cell_type": "code",
   "execution_count": 18,
   "metadata": {},
   "outputs": [],
   "source": [
    "def build_features_and_labels(tree, transform_features=True):\n",
    "    \n",
    "    # load arrays from the tree\n",
    "    a = tree.arrays(filter_name=['part_*', 'jet_pt', 'jet_energy', 'label_*'])\n",
    "\n",
    "    # compute new features\n",
    "    a['part_mask'] = ak.ones_like(a['part_energy'])\n",
    "    a['part_pt'] = np.hypot(a['part_px'], a['part_py'])\n",
    "    a['part_pt_log'] = np.log(a['part_pt'])\n",
    "    a['part_e_log'] = np.log(a['part_energy'])\n",
    "    a['part_logptrel'] = np.log(a['part_pt']/a['jet_pt'])\n",
    "    a['part_logerel'] = np.log(a['part_energy']/a['jet_energy'])\n",
    "    a['part_deltaR'] = np.hypot(a['part_deta'], a['part_dphi'])\n",
    "    a['part_d0'] = np.tanh(a['part_d0val'])\n",
    "    a['part_dz'] = np.tanh(a['part_dzval'])\n",
    "\n",
    "    # apply standardization\n",
    "    if transform_features:\n",
    "        a['part_pt_log'] = (a['part_pt_log'] - 1.7) * 0.7\n",
    "        a['part_e_log'] = (a['part_e_log'] - 2.0) * 0.7\n",
    "        a['part_logptrel'] = (a['part_logptrel'] - (-4.7)) * 0.7\n",
    "        a['part_logerel'] = (a['part_logerel'] - (-4.7)) * 0.7\n",
    "        a['part_deltaR'] = (a['part_deltaR'] - 0.2) * 4.0\n",
    "        a['part_d0err'] = _clip(a['part_d0err'], 0, 1)\n",
    "        a['part_dzerr'] = _clip(a['part_dzerr'], 0, 1)\n",
    "\n",
    "    feature_list = {\n",
    "        'pf_points': ['part_deta', 'part_dphi'], # not used in ParT\n",
    "        'pf_features': [\n",
    "            'part_pt_log', \n",
    "            'part_e_log',\n",
    "            'part_logptrel',\n",
    "            'part_logerel',\n",
    "            'part_deltaR',\n",
    "            'part_charge',\n",
    "            'part_isChargedHadron',\n",
    "            'part_isNeutralHadron',\n",
    "            'part_isPhoton',\n",
    "            'part_isElectron',\n",
    "            'part_isMuon',\n",
    "            'part_d0',\n",
    "            'part_d0err',\n",
    "            'part_dz',\n",
    "            'part_dzerr',\n",
    "            'part_deta',\n",
    "            'part_dphi',\n",
    "        ],\n",
    "        'pf_vectors': [\n",
    "            'part_px',\n",
    "            'part_py',\n",
    "            'part_pz',\n",
    "            'part_energy',\n",
    "        ],\n",
    "        'pf_mask': ['part_mask']\n",
    "    }\n",
    "\n",
    "    out = {}\n",
    "    for k, names in feature_list.items():\n",
    "        out[k] = np.stack([_pad(a[n], maxlen=128).to_numpy() for n in names], axis=1)\n",
    "\n",
    "    label_list = ['label_QCD', 'label_Hbb', 'label_Hcc', 'label_Hgg', 'label_H4q', 'label_Hqql', 'label_Zqq', 'label_Wqq', 'label_Tbqq', 'label_Tbl']\n",
    "    out['label'] = np.stack([a[n].to_numpy().astype('int') for n in label_list], axis=1)\n",
    "    \n",
    "    return out"
   ]
  },
  {
   "cell_type": "code",
   "execution_count": 19,
   "metadata": {
    "scrolled": false
   },
   "outputs": [
    {
     "name": "stdout",
     "output_type": "stream",
     "text": [
      "(100000, 2, 128) (100000, 17, 128) (100000, 4, 128) (100000, 1, 128) (100000, 10)\n"
     ]
    }
   ],
   "source": [
    "d = build_features_and_labels(tree)\n",
    "print(d['pf_points'].shape, d['pf_features'].shape, d['pf_vectors'].shape, d['pf_mask'].shape, d['label'].shape)"
   ]
  },
  {
   "cell_type": "markdown",
   "metadata": {},
   "source": [
    "# Added: Run inference on ParT"
   ]
  },
  {
   "cell_type": "code",
   "execution_count": 20,
   "metadata": {},
   "outputs": [
    {
     "name": "stdout",
     "output_type": "stream",
     "text": [
      "Loading HToBB_120.root\n",
      " → 100000 jets\n",
      "Loading ZJetsToNuNu_120.root\n",
      " → 100000 jets\n",
      "(200000, 2, 128) (200000, 17, 128) (200000, 4, 128) (200000, 1, 128) (200000, 10)\n"
     ]
    }
   ],
   "source": [
    "# load new data\n",
    "\n",
    "# ── Cell 0: load multiple ROOT files and build a combined feature dict ─────\n",
    "from pathlib import Path\n",
    "import uproot\n",
    "import numpy as np\n",
    "\n",
    "# 1) list your files\n",
    "files = [\n",
    "    Path(\"../../nuisance-aware-ood-detection/sophon/data/JetClass/val_5M/HToBB_120.root\"),\n",
    "    Path(\"../../nuisance-aware-ood-detection/sophon/data/JetClass/val_5M/ZJetsToNuNu_120.root\"),\n",
    "]\n",
    "\n",
    "# 2) open & build individual dicts\n",
    "dicts = []\n",
    "for f in files:\n",
    "    print(\"Loading\", f.name)\n",
    "    tree = uproot.open(str(f))[\"tree\"]\n",
    "    d_i = build_features_and_labels(tree)\n",
    "    dicts.append(d_i)\n",
    "    print(\" →\", d_i[\"pf_features\"].shape[0], \"jets\")\n",
    "\n",
    "# 3) concatenate along the event axis\n",
    "d = {}\n",
    "for key in dicts[0].keys():\n",
    "    d[key] = np.concatenate([d_i[key] for d_i in dicts], axis=0)\n",
    "\n",
    "# 4) same shape printout as before\n",
    "print(\n",
    "    d[\"pf_points\"].shape,\n",
    "    d[\"pf_features\"].shape,\n",
    "    d[\"pf_vectors\"].shape,\n",
    "    d[\"pf_mask\"].shape,\n",
    "    d[\"label\"].shape,\n",
    ")"
   ]
  },
  {
   "cell_type": "code",
   "execution_count": 21,
   "metadata": {},
   "outputs": [
    {
     "name": "stdout",
     "output_type": "stream",
     "text": [
      "Datasets ready: 200000 jets\n"
     ]
    }
   ],
   "source": [
    "# ── Cell 1: env, imports, build feature tensors ──────────────────────────────\n",
    "import sys, pathlib\n",
    "import torch\n",
    "from torch.utils.data import TensorDataset\n",
    "\n",
    "# add repo root to PYTHONPATH so dataloader & weaver-core import work\n",
    "REPO_ROOT = pathlib.Path(\"..\").resolve()\n",
    "sys.path.append(str(REPO_ROOT))\n",
    "\n",
    "# assume you’ve already done: d = build_features_and_labels(tree)\n",
    "# now cast into tensors once\n",
    "x_feat = torch.tensor(d['pf_features']).float()   # (N,17,P)\n",
    "x_vec  = torch.tensor(d['pf_vectors']).float()    # (N, 4,P)\n",
    "mask   = torch.tensor(d['pf_mask']).bool()        # (N, 1,P)\n",
    "labels = torch.tensor(d['label'].argmax(1)).long()# (N,)\n",
    "\n",
    "# simple dataset object\n",
    "ds = TensorDataset(x_feat, x_vec, mask, labels)\n",
    "print(\"Datasets ready:\", len(ds), \"jets\")"
   ]
  },
  {
   "cell_type": "code",
   "execution_count": 22,
   "metadata": {},
   "outputs": [
    {
     "name": "stderr",
     "output_type": "stream",
     "text": [
      "/Users/jasonweitz/miniconda3/envs/sophon/lib/python3.10/site-packages/tqdm/auto.py:21: TqdmWarning: IProgress not found. Please update jupyter and ipywidgets. See https://ipywidgets.readthedocs.io/en/stable/user_install.html\n",
      "  from .autonotebook import tqdm as notebook_tqdm\n"
     ]
    },
    {
     "name": "stdout",
     "output_type": "stream",
     "text": [
      "Using device: mps\n"
     ]
    },
    {
     "name": "stderr",
     "output_type": "stream",
     "text": [
      "Batches:   0%|          | 0/98 [00:00<?, ?it/s]"
     ]
    }
   ],
   "source": [
    "# ── Cell 2: DataLoader & device selection ────────────────────────────────────\n",
    "import torch\n",
    "from torch.utils.data import DataLoader\n",
    "from tqdm.auto import tqdm\n",
    "\n",
    "# pick the best device\n",
    "if torch.cuda.is_available():\n",
    "    device  = torch.device(\"cuda\")\n",
    "    pin_mem = True\n",
    "elif getattr(torch.backends, \"mps\", None) and torch.backends.mps.is_available():\n",
    "    device  = torch.device(\"mps\")\n",
    "    pin_mem = False\n",
    "else:\n",
    "    device  = torch.device(\"cpu\")\n",
    "    pin_mem = False\n",
    "\n",
    "print(\"Using device:\", device)\n",
    "\n",
    "# build loader\n",
    "batch_size = 2048\n",
    "ldr = DataLoader(\n",
    "    ds,\n",
    "    batch_size=batch_size,\n",
    "    shuffle=False,\n",
    "    pin_memory=pin_mem,\n",
    "    num_workers=0,\n",
    ")\n",
    "\n",
    "# tqdm wrapper (shows progress immediately)\n",
    "bar = tqdm(ldr, total=len(ldr), desc=\"Batches\")"
   ]
  },
  {
   "cell_type": "code",
   "execution_count": 23,
   "metadata": {},
   "outputs": [
    {
     "name": "stdout",
     "output_type": "stream",
     "text": [
      "Loaded 235 weights → missing: 0, unexpected: 0\n"
     ]
    },
    {
     "data": {
      "text/plain": [
       "ParticleTransformer(\n",
       "  (trimmer): SequenceTrimmer()\n",
       "  (embed): Embed(\n",
       "    (input_bn): BatchNorm1d(17, eps=1e-05, momentum=0.1, affine=True, track_running_stats=True)\n",
       "    (embed): Sequential(\n",
       "      (0): LayerNorm((17,), eps=1e-05, elementwise_affine=True)\n",
       "      (1): Linear(in_features=17, out_features=128, bias=True)\n",
       "      (2): GELU(approximate='none')\n",
       "      (3): LayerNorm((128,), eps=1e-05, elementwise_affine=True)\n",
       "      (4): Linear(in_features=128, out_features=512, bias=True)\n",
       "      (5): GELU(approximate='none')\n",
       "      (6): LayerNorm((512,), eps=1e-05, elementwise_affine=True)\n",
       "      (7): Linear(in_features=512, out_features=128, bias=True)\n",
       "      (8): GELU(approximate='none')\n",
       "    )\n",
       "  )\n",
       "  (pair_embed): PairEmbed(\n",
       "    (embed): Sequential(\n",
       "      (0): BatchNorm1d(4, eps=1e-05, momentum=0.1, affine=True, track_running_stats=True)\n",
       "      (1): Conv1d(4, 64, kernel_size=(1,), stride=(1,))\n",
       "      (2): BatchNorm1d(64, eps=1e-05, momentum=0.1, affine=True, track_running_stats=True)\n",
       "      (3): GELU(approximate='none')\n",
       "      (4): Conv1d(64, 64, kernel_size=(1,), stride=(1,))\n",
       "      (5): BatchNorm1d(64, eps=1e-05, momentum=0.1, affine=True, track_running_stats=True)\n",
       "      (6): GELU(approximate='none')\n",
       "      (7): Conv1d(64, 64, kernel_size=(1,), stride=(1,))\n",
       "      (8): BatchNorm1d(64, eps=1e-05, momentum=0.1, affine=True, track_running_stats=True)\n",
       "      (9): GELU(approximate='none')\n",
       "      (10): Conv1d(64, 8, kernel_size=(1,), stride=(1,))\n",
       "      (11): BatchNorm1d(8, eps=1e-05, momentum=0.1, affine=True, track_running_stats=True)\n",
       "    )\n",
       "  )\n",
       "  (blocks): ModuleList(\n",
       "    (0-7): 8 x Block(\n",
       "      (pre_attn_norm): LayerNorm((128,), eps=1e-05, elementwise_affine=True)\n",
       "      (attn): MultiheadAttention(\n",
       "        (out_proj): NonDynamicallyQuantizableLinear(in_features=128, out_features=128, bias=True)\n",
       "      )\n",
       "      (post_attn_norm): LayerNorm((128,), eps=1e-05, elementwise_affine=True)\n",
       "      (dropout): Dropout(p=0.1, inplace=False)\n",
       "      (pre_fc_norm): LayerNorm((128,), eps=1e-05, elementwise_affine=True)\n",
       "      (fc1): Linear(in_features=128, out_features=512, bias=True)\n",
       "      (act): GELU(approximate='none')\n",
       "      (act_dropout): Dropout(p=0.1, inplace=False)\n",
       "      (post_fc_norm): LayerNorm((512,), eps=1e-05, elementwise_affine=True)\n",
       "      (fc2): Linear(in_features=512, out_features=128, bias=True)\n",
       "    )\n",
       "  )\n",
       "  (cls_blocks): ModuleList(\n",
       "    (0-1): 2 x Block(\n",
       "      (pre_attn_norm): LayerNorm((128,), eps=1e-05, elementwise_affine=True)\n",
       "      (attn): MultiheadAttention(\n",
       "        (out_proj): NonDynamicallyQuantizableLinear(in_features=128, out_features=128, bias=True)\n",
       "      )\n",
       "      (post_attn_norm): LayerNorm((128,), eps=1e-05, elementwise_affine=True)\n",
       "      (dropout): Dropout(p=0, inplace=False)\n",
       "      (pre_fc_norm): LayerNorm((128,), eps=1e-05, elementwise_affine=True)\n",
       "      (fc1): Linear(in_features=128, out_features=512, bias=True)\n",
       "      (act): GELU(approximate='none')\n",
       "      (act_dropout): Dropout(p=0, inplace=False)\n",
       "      (post_fc_norm): LayerNorm((512,), eps=1e-05, elementwise_affine=True)\n",
       "      (fc2): Linear(in_features=512, out_features=128, bias=True)\n",
       "    )\n",
       "  )\n",
       "  (norm): LayerNorm((128,), eps=1e-05, elementwise_affine=True)\n",
       "  (fc): Sequential(\n",
       "    (0): Linear(in_features=128, out_features=10, bias=True)\n",
       "  )\n",
       ")"
      ]
     },
     "execution_count": 23,
     "metadata": {},
     "output_type": "execute_result"
    }
   ],
   "source": [
    "# ── Cell 3: instantiate ParticleTransformer & load weights ─────────────────\n",
    "import sys, pathlib, torch\n",
    "# ensure weaver-core is on PYTHONPATH\n",
    "WEAVER_PATH = pathlib.Path(\"..\") / \"weaver-core\"\n",
    "sys.path.append(str(WEAVER_PATH))\n",
    "\n",
    "from weaver.nn.model.ParticleTransformer import ParticleTransformer\n",
    "\n",
    "# must match the checkpoint’s first BN channels\n",
    "N_FEATURES = 17   # pf_features count\n",
    "N_CLASSES  = 10   # JetClass-10\n",
    "\n",
    "model = ParticleTransformer(\n",
    "    input_dim   = N_FEATURES,\n",
    "    num_classes = N_CLASSES,\n",
    ").to(device)\n",
    "\n",
    "# load checkpoint\n",
    "ckpt = torch.load(REPO_ROOT/\"models\"/\"ParT_full.pt\", map_location=device)\n",
    "sd   = ckpt.get(\"model\", ckpt)\n",
    "# strip any \"mod.\" prefixes\n",
    "clean = {k[len(\"mod.\"):]:v for k,v in sd.items()}  \n",
    "missing, unexpected = model.load_state_dict(clean, strict=False)\n",
    "\n",
    "print(f\"Loaded {len(sd)} weights → missing: {len(missing)}, unexpected: {len(unexpected)}\")\n",
    "model.eval()"
   ]
  },
  {
   "cell_type": "code",
   "execution_count": 29,
   "metadata": {},
   "outputs": [
    {
     "name": "stderr",
     "output_type": "stream",
     "text": [
      "Small batches:   0%|          | 0/6250 [00:00<?, ?it/s]/Users/jasonweitz/miniconda3/envs/sophon/lib/python3.10/site-packages/weaver/nn/model/ParticleTransformer.py:549: FutureWarning: `torch.cuda.amp.autocast(args...)` is deprecated. Please use `torch.amp.autocast('cuda', args...)` instead.\n",
      "  with torch.cuda.amp.autocast(enabled=self.use_amp):\n",
      "/Users/jasonweitz/miniconda3/envs/sophon/lib/python3.10/site-packages/torch/nn/functional.py:5962: UserWarning: Support for mismatched key_padding_mask and attn_mask is deprecated. Use same type for both instead.\n",
      "  warnings.warn(\n",
      "Small batches: 100%|██████████| 6250/6250 [03:33<00:00, 29.26it/s]"
     ]
    },
    {
     "name": "stdout",
     "output_type": "stream",
     "text": [
      "Collected probabilities and labels\n"
     ]
    },
    {
     "name": "stderr",
     "output_type": "stream",
     "text": [
      "\n"
     ]
    }
   ],
   "source": [
    "# ── Cell X: shuffle full dataset, then take a small random subset ──────────\n",
    "import torch\n",
    "from torch.utils.data import Subset\n",
    "\n",
    "# 1) pick how many events you want\n",
    "N_small = 100000\n",
    "\n",
    "# 2) make a random permutation of all indices (optionally set a seed for reproducibility)\n",
    "torch.manual_seed(42)\n",
    "perm = torch.randperm(len(ds))\n",
    "\n",
    "# 3) select the first N_small of those shuffled indices\n",
    "small_idx = perm[:N_small].tolist()\n",
    "\n",
    "# 4) build the Subset from the shuffled indices\n",
    "small_ds = Subset(ds, small_idx)\n",
    "\n",
    "# 5) DataLoader over that subset (you can still shuffle within the batch if you like)\n",
    "from torch.utils.data import DataLoader\n",
    "ldr_small = DataLoader(\n",
    "    small_ds,\n",
    "    batch_size=16,\n",
    "    shuffle=True,     # shuffle within each epoch\n",
    "    pin_memory=pin_mem,\n",
    "    num_workers=0, # change to 4\n",
    ")\n",
    "\n",
    "# wrap in tqdm so you see progress\n",
    "from tqdm.auto import tqdm\n",
    "bar_small = tqdm(ldr_small, total=len(ldr_small), desc=\"Small batches\")\n",
    "\n",
    "# small subset inference collecting probabilities\n",
    "import torch.nn.functional as F\n",
    "\n",
    "model.eval()\n",
    "all_probs, all_true = [], []\n",
    "\n",
    "with torch.no_grad():\n",
    "    for xf, xv, mm, yy in bar_small:\n",
    "        xf, xv, mm = xf.to(device), xv.to(device), mm.to(device)\n",
    "        logits = model(xf, v=xv, mask=mm)\n",
    "        probs  = F.softmax(logits, dim=1).cpu()\n",
    "        all_probs.append(probs)\n",
    "        all_true.append(yy)\n",
    "\n",
    "all_probs = torch.cat(all_probs)   # (N_small, num_classes)\n",
    "all_true  = torch.cat(all_true)    # (N_small,)\n",
    "print(\"Collected probabilities and labels\")"
   ]
  },
  {
   "cell_type": "code",
   "execution_count": 30,
   "metadata": {},
   "outputs": [
    {
     "name": "stdout",
     "output_type": "stream",
     "text": [
      "Out of 100000 jets:\n",
      "  • Class  0 (QCD  ): 41525 jets (41.5%)\n",
      "  • Class  1 (Hbb  ): 46965 jets (47.0%)\n",
      "  • Class  2 (Hcc  ):   693 jets (0.7%)\n",
      "  • Class  3 (Hgg  ):  5865 jets (5.9%)\n",
      "  • Class  4 (H4q  ):    69 jets (0.1%)\n",
      "  • Class  5 (Hqql ):    58 jets (0.1%)\n",
      "  • Class  6 (Zqq  ):  2197 jets (2.2%)\n",
      "  • Class  7 (Wqq  ):  1168 jets (1.2%)\n",
      "  • Class  8 (Tbqq ):  1062 jets (1.1%)\n",
      "  • Class  9 (Tbl  ):   398 jets (0.4%)\n"
     ]
    }
   ],
   "source": [
    "# print counts with class names\n",
    "import torch\n",
    "\n",
    "# 1) Define your class names in index order\n",
    "class_names = [\n",
    "    \"QCD\",    # 0\n",
    "    \"Hbb\",    # 1\n",
    "    \"Hcc\",    # 2\n",
    "    \"Hgg\",    # 3\n",
    "    \"H4q\",    # 4\n",
    "    \"Hqql\",   # 5\n",
    "    \"Zqq\",    # 6\n",
    "    \"Wqq\",    # 7\n",
    "    \"Tbqq\",   # 8\n",
    "    \"Tbl\",    # 9\n",
    "]\n",
    "\n",
    "# 2) Get predictions\n",
    "preds = all_probs.argmax(dim=1)   # tensor of shape (N_small,)\n",
    "\n",
    "# 3) Count each class\n",
    "counts = torch.bincount(preds, minlength=len(class_names))\n",
    "total  = preds.shape[0]\n",
    "\n",
    "# 4) Print with names\n",
    "print(f\"Out of {total} jets:\")\n",
    "for idx, name in enumerate(class_names):\n",
    "    cnt = counts[idx].item()\n",
    "    pct = cnt/total if total>0 else 0\n",
    "    print(f\"  • Class {idx:2d} ({name:5s}): {cnt:5d} jets ({pct:.1%})\")"
   ]
  },
  {
   "cell_type": "code",
   "execution_count": 39,
   "metadata": {},
   "outputs": [
    {
     "name": "stdout",
     "output_type": "stream",
     "text": [
      "AUC (Hbb vs QCD discriminant): 0.997\n"
     ]
    },
    {
     "data": {
      "image/png": "[encoded data removed]",
      "text/plain": [
       "<Figure size 640x480 with 1 Axes>"
      ]
     },
     "metadata": {},
     "output_type": "display_data"
    }
   ],
   "source": [
    "import numpy as np\n",
    "from sklearn.metrics import roc_curve, auc\n",
    "import matplotlib.pyplot as plt\n",
    "\n",
    "# 1) Convert to numpy arrays\n",
    "probs_np = all_probs.numpy()\n",
    "truth_np = all_true.numpy()\n",
    "\n",
    "# 2) Mask to only QCD (0) vs Hbb (1)\n",
    "mask = np.isin(truth_np, [0, 1])\n",
    "y_true = (truth_np[mask] == 1).astype(int)\n",
    "\n",
    "# 3) Compute the discriminant\n",
    "p_hbb = probs_np[mask, 1]\n",
    "p_qcd = probs_np[mask, 0]\n",
    "disc  = p_hbb / (p_hbb + p_qcd)\n",
    "\n",
    "# 4) ROC & AUC\n",
    "fpr, tpr, _ = roc_curve(y_true, disc)\n",
    "roc_auc = auc(fpr, tpr)\n",
    "print(f\"AUC (Hbb vs QCD discriminant): {roc_auc:.3f}\")\n",
    "\n",
    "# avoid log(0)\n",
    "eps = 1e-5\n",
    "fpr_plot = np.clip(fpr, eps, 1.0)\n",
    "\n",
    "plt.figure()\n",
    "plt.plot(tpr, fpr_plot, label=f\"AUC = {roc_auc:.3f}\")\n",
    "plt.plot([0,1], [eps, 1.0], 'k--', alpha=0.3)  # diagonal reference at y=x\n",
    "plt.xlim(0, 1)\n",
    "plt.ylim(eps, 1.0)\n",
    "plt.xscale('linear')\n",
    "plt.yscale('log')\n",
    "\n",
    "plt.xlabel(\"True Positive Rate\")\n",
    "plt.ylabel(\"False Positive Rate (log scale)\")\n",
    "plt.title(\"ROC: H→bb vs QCD\")\n",
    "plt.legend(loc=\"lower right\")\n",
    "plt.grid(True, which=\"both\", ls=\":\")\n",
    "plt.show()"
   ]
  },
  {
   "cell_type": "code",
   "execution_count": null,
   "metadata": {},
   "outputs": [],
   "source": []
  }
 ],
 "metadata": {
  "kernelspec": {
   "display_name": "sophon",
   "language": "python",
   "name": "python3"
  },
  "language_info": {
   "codemirror_mode": {
    "name": "ipython",
    "version": 3
   },
   "file_extension": ".py",
   "mimetype": "text/x-python",
   "name": "python",
   "nbconvert_exporter": "python",
   "pygments_lexer": "ipython3",
   "version": "3.10.18"
  }
 },
 "nbformat": 4,
 "nbformat_minor": 4
}
